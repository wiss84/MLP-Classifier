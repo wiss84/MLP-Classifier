{
 "cells": [
  {
   "cell_type": "markdown",
   "id": "1ce0247c",
   "metadata": {},
   "source": [
    "### In this project i will use the MLPClassifier to build a model for the MNIST dataset and try to predict each number that correspond  to each handwritten digit on an image 8 x 8 pixels.\n",
    "#### Import the function load_digits from sklearn"
   ]
  },
  {
   "cell_type": "code",
   "execution_count": 1,
   "id": "7bee89eb",
   "metadata": {},
   "outputs": [],
   "source": [
    "from sklearn.datasets import load_digits"
   ]
  },
  {
   "cell_type": "markdown",
   "id": "52d0452e",
   "metadata": {},
   "source": [
    "#### Extract our 2 arrays from the dataset and show their shape.\n",
    "#### The shape of our X array have 1797 data points and each datapoint has 64 features. We have 64 features because the image is 8 x 8 pixels and we have 1 feature per pixel, meaning: we have 1797 images and each image is 8 x  8 pixels."
   ]
  },
  {
   "cell_type": "code",
   "execution_count": 2,
   "id": "d93eeb09",
   "metadata": {},
   "outputs": [
    {
     "name": "stdout",
     "output_type": "stream",
     "text": [
      "(1797, 64) (1797,)\n"
     ]
    }
   ],
   "source": [
    "X, y = load_digits(return_X_y = True)\n",
    "print(X.shape, y.shape)"
   ]
  },
  {
   "cell_type": "markdown",
   "id": "266dbe2a",
   "metadata": {},
   "source": [
    "#### Show the first datapoint in our X array after reshaping it to 8 x 8"
   ]
  },
  {
   "cell_type": "code",
   "execution_count": 3,
   "id": "476e6f15",
   "metadata": {
    "scrolled": true
   },
   "outputs": [
    {
     "name": "stdout",
     "output_type": "stream",
     "text": [
      "[[ 0.  0.  5. 13.  9.  1.  0.  0.]\n",
      " [ 0.  0. 13. 15. 10. 15.  5.  0.]\n",
      " [ 0.  3. 15.  2.  0. 11.  8.  0.]\n",
      " [ 0.  4. 12.  0.  0.  8.  8.  0.]\n",
      " [ 0.  5.  8.  0.  0.  9.  8.  0.]\n",
      " [ 0.  4. 11.  0.  1. 12.  7.  0.]\n",
      " [ 0.  2. 14.  5. 10. 12.  0.  0.]\n",
      " [ 0.  0.  6. 13. 10.  0.  0.  0.]]\n"
     ]
    }
   ],
   "source": [
    "print(X[0].reshape(8, 8))"
   ]
  },
  {
   "cell_type": "markdown",
   "id": "b03bc158",
   "metadata": {},
   "source": [
    "#### Now let's show the corresponding image to the first datapoint in our X array.\n",
    "#### To do that we have to use the matshow function from matplotlib"
   ]
  },
  {
   "cell_type": "code",
   "execution_count": 4,
   "id": "b0241b20",
   "metadata": {},
   "outputs": [],
   "source": [
    "import matplotlib.pyplot as plt"
   ]
  },
  {
   "cell_type": "markdown",
   "id": "c7909292",
   "metadata": {},
   "source": [
    "#### The matshow function take a cmap parameter which is the color map for the image, plt.cm.gray means the image is black and white.\n",
    "#### After looking at the image and compare it with our datapoint shape, we conclude that 0 is total black and 15 is total white."
   ]
  },
  {
   "cell_type": "code",
   "execution_count": 5,
   "id": "c8345bec",
   "metadata": {
    "scrolled": false
   },
   "outputs": [
    {
     "data": {
      "image/png": "[encoded data removed]",
      "text/plain": [
       "<Figure size 288x288 with 1 Axes>"
      ]
     },
     "metadata": {},
     "output_type": "display_data"
    }
   ],
   "source": [
    "plt.matshow(X[0].reshape(8,8), cmap = plt.cm.gray)\n",
    "plt.xticks(())\n",
    "plt.yticks(())\n",
    "plt.show()"
   ]
  },
  {
   "cell_type": "markdown",
   "id": "795bbfa0",
   "metadata": {},
   "source": [
    "#### Import the train_test_split function and the MLPClassifier to split our 2 arrays to train and test sets then build our Multi Layer Perceptron Classifier"
   ]
  },
  {
   "cell_type": "code",
   "execution_count": 6,
   "id": "19f96256",
   "metadata": {},
   "outputs": [
    {
     "name": "stdout",
     "output_type": "stream",
     "text": [
      "0.9777777777777777\n"
     ]
    }
   ],
   "source": [
    "from sklearn.model_selection import train_test_split\n",
    "from sklearn.neural_network import MLPClassifier\n",
    "\n",
    "X_train, X_test, y_train, y_test = train_test_split(X, y, test_size = 0.2, random_state = 0)\n",
    "\n",
    "mlp = MLPClassifier(random_state = 0)\n",
    "mlp.fit(X_train, y_train)\n",
    "print(mlp.score(X_test, y_test))"
   ]
  },
  {
   "cell_type": "markdown",
   "id": "137eaf0f",
   "metadata": {},
   "source": [
    "#### After training the model and showing its accuracy score which was 97.7%.\n",
    "#### Let's see how the model performed  in the prediction.\n",
    "#### Show the first datapoint the model predicted and its corresponding image."
   ]
  },
  {
   "cell_type": "code",
   "execution_count": 7,
   "id": "ffc14a5b",
   "metadata": {
    "scrolled": true
   },
   "outputs": [
    {
     "name": "stdout",
     "output_type": "stream",
     "text": [
      "predicted value: [2]\n"
     ]
    },
    {
     "data": {
      "image/png": "[encoded data removed]",
      "text/plain": [
       "<Figure size 288x288 with 1 Axes>"
      ]
     },
     "metadata": {},
     "output_type": "display_data"
    }
   ],
   "source": [
    "print(\"predicted value:\", mlp.predict([X_test[0]]))\n",
    "plt.matshow(X_test[0].reshape(8, 8), cmap=plt.cm.gray)\n",
    "plt.xticks(())\n",
    "plt.yticks(())\n",
    "plt.show()"
   ]
  },
  {
   "cell_type": "markdown",
   "id": "aa784f14",
   "metadata": {},
   "source": [
    "#### Show the last datapoint the model predicted and its corresponding image."
   ]
  },
  {
   "cell_type": "code",
   "execution_count": 8,
   "id": "d0fec763",
   "metadata": {
    "scrolled": true
   },
   "outputs": [
    {
     "name": "stdout",
     "output_type": "stream",
     "text": [
      "predicted value: [8]\n"
     ]
    },
    {
     "data": {
      "image/png": "[encoded data removed]",
      "text/plain": [
       "<Figure size 288x288 with 1 Axes>"
      ]
     },
     "metadata": {},
     "output_type": "display_data"
    }
   ],
   "source": [
    "print(\"predicted value:\", mlp.predict([X_test[-1]]))\n",
    "plt.matshow(X_test[-1].reshape(8, 8), cmap=plt.cm.gray)\n",
    "plt.xticks(())\n",
    "plt.yticks(())\n",
    "plt.show()"
   ]
  },
  {
   "cell_type": "markdown",
   "id": "5459b62c",
   "metadata": {},
   "source": [
    "#### Now lets show which images our model failed to predict by right way."
   ]
  },
  {
   "cell_type": "code",
   "execution_count": 9,
   "id": "4233a0f4",
   "metadata": {},
   "outputs": [
    {
     "name": "stdout",
     "output_type": "stream",
     "text": [
      "[[ 0.  0.  0.  0. 13.  1.  0.  0.]\n",
      " [ 0.  0.  0.  7. 15.  3.  0.  0.]\n",
      " [ 0.  0.  0. 16. 11.  2.  0.  0.]\n",
      " [ 0.  0.  4. 16. 16. 14.  1.  0.]\n",
      " [ 0.  0.  5. 16.  8.  8. 10.  0.]\n",
      " [ 0.  0.  9. 16.  4.  0. 15.  0.]\n",
      " [ 0.  0.  2.  9. 11. 13. 14.  0.]\n",
      " [ 0.  0.  0.  0. 10. 16. 10.  0.]]\n",
      "true value: 6\n",
      "predicted value: 1 \n",
      " \n",
      "\n"
     ]
    },
    {
     "data": {
      "image/png": "[encoded data removed]",
      "text/plain": [
       "<Figure size 288x288 with 1 Axes>"
      ]
     },
     "metadata": {},
     "output_type": "display_data"
    },
    {
     "name": "stdout",
     "output_type": "stream",
     "text": [
      "[[ 0.  0.  6. 14. 16.  5.  0.  0.]\n",
      " [ 0.  2. 16. 16. 16.  7.  0.  0.]\n",
      " [ 0.  2. 15. 16. 15.  2.  0.  0.]\n",
      " [ 0.  0.  6. 16. 15.  7.  0.  0.]\n",
      " [ 0.  0. 14. 10.  6. 16.  3.  0.]\n",
      " [ 0.  1. 16.  3.  0. 16.  7.  0.]\n",
      " [ 0.  0. 10. 11. 11. 15.  3.  0.]\n",
      " [ 0.  0.  3. 14. 16.  6.  0.  0.]]\n",
      "true value: 8\n",
      "predicted value: 6 \n",
      " \n",
      "\n"
     ]
    },
    {
     "data": {
      "image/png": "[encoded data removed]",
      "text/plain": [
       "<Figure size 288x288 with 1 Axes>"
      ]
     },
     "metadata": {},
     "output_type": "display_data"
    },
    {
     "name": "stdout",
     "output_type": "stream",
     "text": [
      "[[ 0.  0.  2.  8.  7.  0.  0.  0.]\n",
      " [ 0.  0.  6. 15. 16.  2.  0.  0.]\n",
      " [ 0.  6. 15. 11. 16.  4.  0.  0.]\n",
      " [ 0.  5. 16. 10. 16.  1.  0.  0.]\n",
      " [ 0.  2. 15. 16. 13.  0.  0.  0.]\n",
      " [ 0.  0.  2. 16. 12.  9.  3.  0.]\n",
      " [ 0.  0.  4. 14.  0. 12. 14.  1.]\n",
      " [ 0.  0.  1. 12. 10.  7.  0.  0.]]\n",
      "true value: 8\n",
      "predicted value: 1 \n",
      " \n",
      "\n"
     ]
    },
    {
     "data": {
      "image/png": "[encoded data removed]",
      "text/plain": [
       "<Figure size 288x288 with 1 Axes>"
      ]
     },
     "metadata": {},
     "output_type": "display_data"
    },
    {
     "name": "stdout",
     "output_type": "stream",
     "text": [
      "[[ 0.  0. 13. 10.  1.  0.  0.  0.]\n",
      " [ 0.  5. 16. 14.  7.  0.  0.  0.]\n",
      " [ 0.  4. 16.  8. 14.  0.  0.  0.]\n",
      " [ 0.  2. 14. 16. 16.  6.  0.  0.]\n",
      " [ 0.  0.  1.  4.  9. 13.  1.  0.]\n",
      " [ 0.  0.  0.  0.  0. 13.  6.  0.]\n",
      " [ 0.  0.  5.  8.  5.  9. 14.  0.]\n",
      " [ 0.  0. 13. 13. 15. 16. 13.  0.]]\n",
      "true value: 9\n",
      "predicted value: 5 \n",
      " \n",
      "\n"
     ]
    },
    {
     "data": {
      "image/png": "[encoded data removed]",
      "text/plain": [
       "<Figure size 288x288 with 1 Axes>"
      ]
     },
     "metadata": {},
     "output_type": "display_data"
    },
    {
     "name": "stdout",
     "output_type": "stream",
     "text": [
      "[[ 0.  0. 12. 10.  0.  0.  0.  0.]\n",
      " [ 0.  0. 14. 16. 16. 14.  0.  0.]\n",
      " [ 0.  0. 13. 16. 15. 10.  1.  0.]\n",
      " [ 0.  0. 11. 16. 16.  7.  0.  0.]\n",
      " [ 0.  0.  0.  4.  7. 16.  7.  0.]\n",
      " [ 0.  0.  0.  0.  4. 16.  9.  0.]\n",
      " [ 0.  0.  5.  4. 12. 16.  4.  0.]\n",
      " [ 0.  0.  9. 16. 16. 10.  0.  0.]]\n",
      "true value: 5\n",
      "predicted value: 9 \n",
      " \n",
      "\n"
     ]
    },
    {
     "data": {
      "image/png": "[encoded data removed]",
      "text/plain": [
       "<Figure size 288x288 with 1 Axes>"
      ]
     },
     "metadata": {},
     "output_type": "display_data"
    },
    {
     "name": "stdout",
     "output_type": "stream",
     "text": [
      "[[ 0.  0.  6. 16.  8.  0.  0.  0.]\n",
      " [ 0.  0.  8. 13. 16.  3.  0.  0.]\n",
      " [ 0.  0.  2. 12. 10.  8.  0.  0.]\n",
      " [ 0.  0.  0.  0.  7. 11.  0.  0.]\n",
      " [ 0.  0.  0.  0.  9. 10.  0.  0.]\n",
      " [ 0.  0.  0.  0. 13.  7.  0.  0.]\n",
      " [ 0.  0.  1. 10. 16. 10.  8.  3.]\n",
      " [ 0.  0.  4. 16. 16. 15. 16. 16.]]\n",
      "true value: 2\n",
      "predicted value: 1 \n",
      " \n",
      "\n"
     ]
    },
    {
     "data": {
      "image/png": "[encoded data removed]",
      "text/plain": [
       "<Figure size 288x288 with 1 Axes>"
      ]
     },
     "metadata": {},
     "output_type": "display_data"
    },
    {
     "name": "stdout",
     "output_type": "stream",
     "text": [
      "[[ 0.  0.  0. 14. 10.  0.  0.  0.]\n",
      " [ 0.  3. 14. 16. 13.  0.  0.  0.]\n",
      " [ 2. 16. 16. 16.  5.  0.  0.  0.]\n",
      " [ 1. 11. 14. 15.  1.  0.  0.  0.]\n",
      " [ 0.  0.  8. 16.  1.  0.  0.  0.]\n",
      " [ 0.  0.  7. 16.  1.  0.  0.  0.]\n",
      " [ 0.  0.  1. 15.  5.  0.  0.  0.]\n",
      " [ 0.  0.  0. 13. 13.  0.  0.  0.]]\n",
      "true value: 1\n",
      "predicted value: 5 \n",
      " \n",
      "\n"
     ]
    },
    {
     "data": {
      "image/png": "[encoded data removed]",
      "text/plain": [
       "<Figure size 288x288 with 1 Axes>"
      ]
     },
     "metadata": {},
     "output_type": "display_data"
    },
    {
     "name": "stdout",
     "output_type": "stream",
     "text": [
      "[[ 0.  0.  4. 15.  7.  0.  0.  0.]\n",
      " [ 0.  1. 13. 12. 16.  2.  2.  0.]\n",
      " [ 0.  7. 11.  0. 11. 12.  1.  0.]\n",
      " [ 0.  4.  8.  6. 13.  3.  0.  0.]\n",
      " [ 0.  3. 16. 15.  1.  0.  0.  0.]\n",
      " [ 0.  2. 16. 14.  6.  0.  0.  0.]\n",
      " [ 0.  3. 16. 10. 14.  3.  0.  0.]\n",
      " [ 0.  0.  2.  9. 12.  3.  0.  0.]]\n",
      "true value: 8\n",
      "predicted value: 2 \n",
      " \n",
      "\n"
     ]
    },
    {
     "data": {
      "image/png": "[encoded data removed]",
      "text/plain": [
       "<Figure size 288x288 with 1 Axes>"
      ]
     },
     "metadata": {},
     "output_type": "display_data"
    }
   ],
   "source": [
    "y_pred = mlp.predict(X_test)\n",
    "incorrect = X_test[y_pred != y_test]\n",
    "incorrect_true = y_test[y_pred != y_test]\n",
    "incorrect_pred = y_pred[y_pred != y_test]\n",
    "\n",
    "for j in range(0,len(incorrect)):\n",
    "    print(incorrect[j].reshape(8, 8)) \n",
    "    print(\"true value:\", incorrect_true[j]) \n",
    "    print(\"predicted value:\", incorrect_pred[j],\"\\n \\n\")\n",
    "    plt.matshow(incorrect[j].reshape(8, 8), cmap=plt.cm.gray)\n",
    "    plt.xticks(())\n",
    "    plt.yticks(())\n",
    "    plt.show()"
   ]
  },
  {
   "cell_type": "markdown",
   "id": "403d23f9",
   "metadata": {},
   "source": [
    "#### Now lets try to reconfigure our classifer parameters to make it perform better, we will build a second model but this time with optimised parameters rathar than the defualt that we used on our first classifier."
   ]
  },
  {
   "cell_type": "code",
   "execution_count": 10,
   "id": "accf835e",
   "metadata": {},
   "outputs": [],
   "source": [
    "X_train, X_test, y_train, y_test = train_test_split(X, y, test_size = 0.2, random_state = 0)\n",
    "\n",
    "mlp2 = MLPClassifier(random_state = 0)"
   ]
  },
  {
   "cell_type": "markdown",
   "id": "8434acb1",
   "metadata": {},
   "source": [
    "#### To find the optimal attributes for our parameters we will need to import GridSearchCV."
   ]
  },
  {
   "cell_type": "code",
   "execution_count": 11,
   "id": "4d51d67a",
   "metadata": {},
   "outputs": [],
   "source": [
    "from sklearn.model_selection import GridSearchCV"
   ]
  },
  {
   "cell_type": "markdown",
   "id": "8ca13b0e",
   "metadata": {},
   "source": [
    "#### Then build our param_grid parameter with all the different attributes we want to check."
   ]
  },
  {
   "cell_type": "code",
   "execution_count": 12,
   "id": "8f590fa1",
   "metadata": {},
   "outputs": [],
   "source": [
    "param_grid = {\n",
    "    'hidden_layer_sizes': [(100, 100, 100), (100, 50, 100), (50, 100, 50), (100)],\n",
    "    'activation': ['tanh', 'relu'],\n",
    "    'solver': ['sgd', 'adam'],\n",
    "    'alpha': [0.0001, 0.05],\n",
    "    'learning_rate': ['constant','adaptive'],\n",
    "}"
   ]
  },
  {
   "cell_type": "markdown",
   "id": "7094c460",
   "metadata": {},
   "source": [
    "#### Build our GridSearchCV object then train it on the train set and print the best attributes it found from the param_grid, now we can check how well it did with the prediction by using the classification_report from sklearn"
   ]
  },
  {
   "cell_type": "code",
   "execution_count": 13,
   "id": "1a0ef40a",
   "metadata": {
    "scrolled": true
   },
   "outputs": [
    {
     "name": "stdout",
     "output_type": "stream",
     "text": [
      "Best parameters found:\n",
      " {'activation': 'relu', 'alpha': 0.0001, 'hidden_layer_sizes': (100, 100, 100), 'learning_rate': 'constant', 'solver': 'adam'}\n",
      "Results on the test set:\n",
      "              precision    recall  f1-score   support\n",
      "\n",
      "           0       1.00      1.00      1.00        27\n",
      "           1       0.95      1.00      0.97        35\n",
      "           2       1.00      1.00      1.00        36\n",
      "           3       1.00      0.97      0.98        29\n",
      "           4       1.00      1.00      1.00        30\n",
      "           5       0.95      0.95      0.95        40\n",
      "           6       1.00      0.98      0.99        44\n",
      "           7       1.00      1.00      1.00        39\n",
      "           8       1.00      0.97      0.99        39\n",
      "           9       0.95      0.98      0.96        41\n",
      "\n",
      "    accuracy                           0.98       360\n",
      "   macro avg       0.98      0.98      0.98       360\n",
      "weighted avg       0.98      0.98      0.98       360\n",
      "\n"
     ]
    }
   ],
   "source": [
    "gs = GridSearchCV(mlp2, param_grid, n_jobs=-1, cv=5)\n",
    "gs.fit(X_train, y_train)\n",
    "\n",
    "\n",
    "print('Best parameters found:\\n', gs.best_params_)\n",
    "\n",
    "\n",
    "    \n",
    "y_true, y_pred = y_test , gs.predict(X_test)\n",
    "\n",
    "from sklearn.metrics import classification_report\n",
    "print('Results on the test set:')\n",
    "print(classification_report(y_true, y_pred))"
   ]
  },
  {
   "cell_type": "markdown",
   "id": "8a30ef93",
   "metadata": {},
   "source": [
    "#### GridSearchCV found the best attributes for our model, which are: {'activation': 'relu', 'alpha': 0.0001, 'hidden_layer_sizes': (100, 100, 100), 'learning_rate': 'constant', 'solver': 'adam'}, notice that the attributes are almost all the same as the defaults except the hidden_layer_size, now we can build our model with these parameters.\n",
    "#### The accuracy score improved a little."
   ]
  },
  {
   "cell_type": "code",
   "execution_count": 14,
   "id": "4b40d8e8",
   "metadata": {},
   "outputs": [
    {
     "data": {
      "text/plain": [
       "0.9833333333333333"
      ]
     },
     "execution_count": 14,
     "metadata": {},
     "output_type": "execute_result"
    }
   ],
   "source": [
    "mlp2 = MLPClassifier(hidden_layer_sizes = (100, 100, 100), random_state = 0)\n",
    "mlp2.fit(X_train, y_train)\n",
    "mlp2.score(X_test, y_test)"
   ]
  }
 ],
 "metadata": {
  "kernelspec": {
   "display_name": "Python 3 (ipykernel)",
   "language": "python",
   "name": "python3"
  },
  "language_info": {
   "codemirror_mode": {
    "name": "ipython",
    "version": 3
   },
   "file_extension": ".py",
   "mimetype": "text/x-python",
   "name": "python",
   "nbconvert_exporter": "python",
   "pygments_lexer": "ipython3",
   "version": "3.9.12"
  }
 },
 "nbformat": 4,
 "nbformat_minor": 5
}
